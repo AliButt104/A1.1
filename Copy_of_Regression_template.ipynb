{
  "nbformat": 4,
  "nbformat_minor": 0,
  "metadata": {
    "colab": {
      "name": "Copy of Regression template.ipynb",
      "provenance": [],
      "collapsed_sections": [
        "tCjHIT11ALn1",
        "-7gSS1NBA3Hz"
      ],
      "include_colab_link": true
    },
    "kernelspec": {
      "name": "python3",
      "display_name": "Python 3"
    },
    "language_info": {
      "name": "python"
    }
  },
  "cells": [
    {
      "cell_type": "markdown",
      "metadata": {
        "id": "view-in-github",
        "colab_type": "text"
      },
      "source": [
        "<a href=\"https://colab.research.google.com/github/AliButt104/A1.1/blob/main/Copy_of_Regression_template.ipynb\" target=\"_parent\"><img src=\"https://colab.research.google.com/assets/colab-badge.svg\" alt=\"Open In Colab\"/></a>"
      ]
    },
    {
      "cell_type": "markdown",
      "source": [
        "# **Course: Data Science for Decision Support**\n",
        "**Assignment 1.2** (Submission deadline 1.06.2022, 16:00), \n",
        "\n",
        "**Author:** Ali, Butt: 533126.\n",
        "\n",
        "\n",
        "---\n",
        "\n",
        "\n"
      ],
      "metadata": {
        "id": "tCjHIT11ALn1"
      }
    },
    {
      "cell_type": "markdown",
      "source": [
        "# Problem: **Regression** (Total score 32)"
      ],
      "metadata": {
        "id": "-7gSS1NBA3Hz"
      }
    },
    {
      "cell_type": "markdown",
      "source": [
        "# **`Task 1 „Data Pre-processing“ (7 Scores)`**"
      ],
      "metadata": {
        "id": "R2y3CQGlBbDF"
      }
    },
    {
      "cell_type": "markdown",
      "source": [
        "1)\tRead the data from your individual variant into Python notebook"
      ],
      "metadata": {
        "id": "gHgKrVp0Be12"
      }
    },
    {
      "cell_type": "code",
      "source": [
        "import pandas as pd\n",
        "url = 'https://github.com/AliButt104/A1.1/blob/main/concrete.csv'\n",
        "df = pd.read_csv(url)\n",
        "df\n"
      ],
      "metadata": {
        "id": "MQzN3X-qAK04",
        "outputId": "9b78f247-5cee-4338-c16d-b7853c2dc97b",
        "colab": {
          "base_uri": "https://localhost:8080/",
          "height": 276
        }
      },
      "execution_count": null,
      "outputs": [
        {
          "output_type": "error",
          "ename": "ParserError",
          "evalue": "ignored",
          "traceback": [
            "\u001b[0;31m---------------------------------------------------------------------------\u001b[0m",
            "\u001b[0;31mParserError\u001b[0m                               Traceback (most recent call last)",
            "\u001b[0;32m<ipython-input-2-c31bdbdfde95>\u001b[0m in \u001b[0;36m<module>\u001b[0;34m()\u001b[0m\n\u001b[1;32m      1\u001b[0m \u001b[0;32mimport\u001b[0m \u001b[0mpandas\u001b[0m \u001b[0;32mas\u001b[0m \u001b[0mpd\u001b[0m\u001b[0;34m\u001b[0m\u001b[0;34m\u001b[0m\u001b[0m\n\u001b[1;32m      2\u001b[0m \u001b[0murl\u001b[0m \u001b[0;34m=\u001b[0m \u001b[0;34m'https://github.com/AliButt104/A1.1/blob/main/concrete.csv'\u001b[0m\u001b[0;34m\u001b[0m\u001b[0;34m\u001b[0m\u001b[0m\n\u001b[0;32m----> 3\u001b[0;31m \u001b[0mdf\u001b[0m \u001b[0;34m=\u001b[0m \u001b[0mpd\u001b[0m\u001b[0;34m.\u001b[0m\u001b[0mread_csv\u001b[0m\u001b[0;34m(\u001b[0m\u001b[0murl\u001b[0m\u001b[0;34m)\u001b[0m\u001b[0;34m\u001b[0m\u001b[0;34m\u001b[0m\u001b[0m\n\u001b[0m\u001b[1;32m      4\u001b[0m \u001b[0mdf\u001b[0m\u001b[0;34m\u001b[0m\u001b[0;34m\u001b[0m\u001b[0m\n",
            "\u001b[0;32m/usr/local/lib/python3.7/dist-packages/pandas/util/_decorators.py\u001b[0m in \u001b[0;36mwrapper\u001b[0;34m(*args, **kwargs)\u001b[0m\n\u001b[1;32m    309\u001b[0m                     \u001b[0mstacklevel\u001b[0m\u001b[0;34m=\u001b[0m\u001b[0mstacklevel\u001b[0m\u001b[0;34m,\u001b[0m\u001b[0;34m\u001b[0m\u001b[0;34m\u001b[0m\u001b[0m\n\u001b[1;32m    310\u001b[0m                 )\n\u001b[0;32m--> 311\u001b[0;31m             \u001b[0;32mreturn\u001b[0m \u001b[0mfunc\u001b[0m\u001b[0;34m(\u001b[0m\u001b[0;34m*\u001b[0m\u001b[0margs\u001b[0m\u001b[0;34m,\u001b[0m \u001b[0;34m**\u001b[0m\u001b[0mkwargs\u001b[0m\u001b[0;34m)\u001b[0m\u001b[0;34m\u001b[0m\u001b[0;34m\u001b[0m\u001b[0m\n\u001b[0m\u001b[1;32m    312\u001b[0m \u001b[0;34m\u001b[0m\u001b[0m\n\u001b[1;32m    313\u001b[0m         \u001b[0;32mreturn\u001b[0m \u001b[0mwrapper\u001b[0m\u001b[0;34m\u001b[0m\u001b[0;34m\u001b[0m\u001b[0m\n",
            "\u001b[0;32m/usr/local/lib/python3.7/dist-packages/pandas/io/parsers/readers.py\u001b[0m in \u001b[0;36mread_csv\u001b[0;34m(filepath_or_buffer, sep, delimiter, header, names, index_col, usecols, squeeze, prefix, mangle_dupe_cols, dtype, engine, converters, true_values, false_values, skipinitialspace, skiprows, skipfooter, nrows, na_values, keep_default_na, na_filter, verbose, skip_blank_lines, parse_dates, infer_datetime_format, keep_date_col, date_parser, dayfirst, cache_dates, iterator, chunksize, compression, thousands, decimal, lineterminator, quotechar, quoting, doublequote, escapechar, comment, encoding, encoding_errors, dialect, error_bad_lines, warn_bad_lines, on_bad_lines, delim_whitespace, low_memory, memory_map, float_precision, storage_options)\u001b[0m\n\u001b[1;32m    584\u001b[0m     \u001b[0mkwds\u001b[0m\u001b[0;34m.\u001b[0m\u001b[0mupdate\u001b[0m\u001b[0;34m(\u001b[0m\u001b[0mkwds_defaults\u001b[0m\u001b[0;34m)\u001b[0m\u001b[0;34m\u001b[0m\u001b[0;34m\u001b[0m\u001b[0m\n\u001b[1;32m    585\u001b[0m \u001b[0;34m\u001b[0m\u001b[0m\n\u001b[0;32m--> 586\u001b[0;31m     \u001b[0;32mreturn\u001b[0m \u001b[0m_read\u001b[0m\u001b[0;34m(\u001b[0m\u001b[0mfilepath_or_buffer\u001b[0m\u001b[0;34m,\u001b[0m \u001b[0mkwds\u001b[0m\u001b[0;34m)\u001b[0m\u001b[0;34m\u001b[0m\u001b[0;34m\u001b[0m\u001b[0m\n\u001b[0m\u001b[1;32m    587\u001b[0m \u001b[0;34m\u001b[0m\u001b[0m\n\u001b[1;32m    588\u001b[0m \u001b[0;34m\u001b[0m\u001b[0m\n",
            "\u001b[0;32m/usr/local/lib/python3.7/dist-packages/pandas/io/parsers/readers.py\u001b[0m in \u001b[0;36m_read\u001b[0;34m(filepath_or_buffer, kwds)\u001b[0m\n\u001b[1;32m    486\u001b[0m \u001b[0;34m\u001b[0m\u001b[0m\n\u001b[1;32m    487\u001b[0m     \u001b[0;32mwith\u001b[0m \u001b[0mparser\u001b[0m\u001b[0;34m:\u001b[0m\u001b[0;34m\u001b[0m\u001b[0;34m\u001b[0m\u001b[0m\n\u001b[0;32m--> 488\u001b[0;31m         \u001b[0;32mreturn\u001b[0m \u001b[0mparser\u001b[0m\u001b[0;34m.\u001b[0m\u001b[0mread\u001b[0m\u001b[0;34m(\u001b[0m\u001b[0mnrows\u001b[0m\u001b[0;34m)\u001b[0m\u001b[0;34m\u001b[0m\u001b[0;34m\u001b[0m\u001b[0m\n\u001b[0m\u001b[1;32m    489\u001b[0m \u001b[0;34m\u001b[0m\u001b[0m\n\u001b[1;32m    490\u001b[0m \u001b[0;34m\u001b[0m\u001b[0m\n",
            "\u001b[0;32m/usr/local/lib/python3.7/dist-packages/pandas/io/parsers/readers.py\u001b[0m in \u001b[0;36mread\u001b[0;34m(self, nrows)\u001b[0m\n\u001b[1;32m   1045\u001b[0m     \u001b[0;32mdef\u001b[0m \u001b[0mread\u001b[0m\u001b[0;34m(\u001b[0m\u001b[0mself\u001b[0m\u001b[0;34m,\u001b[0m \u001b[0mnrows\u001b[0m\u001b[0;34m=\u001b[0m\u001b[0;32mNone\u001b[0m\u001b[0;34m)\u001b[0m\u001b[0;34m:\u001b[0m\u001b[0;34m\u001b[0m\u001b[0;34m\u001b[0m\u001b[0m\n\u001b[1;32m   1046\u001b[0m         \u001b[0mnrows\u001b[0m \u001b[0;34m=\u001b[0m \u001b[0mvalidate_integer\u001b[0m\u001b[0;34m(\u001b[0m\u001b[0;34m\"nrows\"\u001b[0m\u001b[0;34m,\u001b[0m \u001b[0mnrows\u001b[0m\u001b[0;34m)\u001b[0m\u001b[0;34m\u001b[0m\u001b[0;34m\u001b[0m\u001b[0m\n\u001b[0;32m-> 1047\u001b[0;31m         \u001b[0mindex\u001b[0m\u001b[0;34m,\u001b[0m \u001b[0mcolumns\u001b[0m\u001b[0;34m,\u001b[0m \u001b[0mcol_dict\u001b[0m \u001b[0;34m=\u001b[0m \u001b[0mself\u001b[0m\u001b[0;34m.\u001b[0m\u001b[0m_engine\u001b[0m\u001b[0;34m.\u001b[0m\u001b[0mread\u001b[0m\u001b[0;34m(\u001b[0m\u001b[0mnrows\u001b[0m\u001b[0;34m)\u001b[0m\u001b[0;34m\u001b[0m\u001b[0;34m\u001b[0m\u001b[0m\n\u001b[0m\u001b[1;32m   1048\u001b[0m \u001b[0;34m\u001b[0m\u001b[0m\n\u001b[1;32m   1049\u001b[0m         \u001b[0;32mif\u001b[0m \u001b[0mindex\u001b[0m \u001b[0;32mis\u001b[0m \u001b[0;32mNone\u001b[0m\u001b[0;34m:\u001b[0m\u001b[0;34m\u001b[0m\u001b[0;34m\u001b[0m\u001b[0m\n",
            "\u001b[0;32m/usr/local/lib/python3.7/dist-packages/pandas/io/parsers/c_parser_wrapper.py\u001b[0m in \u001b[0;36mread\u001b[0;34m(self, nrows)\u001b[0m\n\u001b[1;32m    222\u001b[0m         \u001b[0;32mtry\u001b[0m\u001b[0;34m:\u001b[0m\u001b[0;34m\u001b[0m\u001b[0;34m\u001b[0m\u001b[0m\n\u001b[1;32m    223\u001b[0m             \u001b[0;32mif\u001b[0m \u001b[0mself\u001b[0m\u001b[0;34m.\u001b[0m\u001b[0mlow_memory\u001b[0m\u001b[0;34m:\u001b[0m\u001b[0;34m\u001b[0m\u001b[0;34m\u001b[0m\u001b[0m\n\u001b[0;32m--> 224\u001b[0;31m                 \u001b[0mchunks\u001b[0m \u001b[0;34m=\u001b[0m \u001b[0mself\u001b[0m\u001b[0;34m.\u001b[0m\u001b[0m_reader\u001b[0m\u001b[0;34m.\u001b[0m\u001b[0mread_low_memory\u001b[0m\u001b[0;34m(\u001b[0m\u001b[0mnrows\u001b[0m\u001b[0;34m)\u001b[0m\u001b[0;34m\u001b[0m\u001b[0;34m\u001b[0m\u001b[0m\n\u001b[0m\u001b[1;32m    225\u001b[0m                 \u001b[0;31m# destructive to chunks\u001b[0m\u001b[0;34m\u001b[0m\u001b[0;34m\u001b[0m\u001b[0;34m\u001b[0m\u001b[0m\n\u001b[1;32m    226\u001b[0m                 \u001b[0mdata\u001b[0m \u001b[0;34m=\u001b[0m \u001b[0m_concatenate_chunks\u001b[0m\u001b[0;34m(\u001b[0m\u001b[0mchunks\u001b[0m\u001b[0;34m)\u001b[0m\u001b[0;34m\u001b[0m\u001b[0;34m\u001b[0m\u001b[0m\n",
            "\u001b[0;32m/usr/local/lib/python3.7/dist-packages/pandas/_libs/parsers.pyx\u001b[0m in \u001b[0;36mpandas._libs.parsers.TextReader.read_low_memory\u001b[0;34m()\u001b[0m\n",
            "\u001b[0;32m/usr/local/lib/python3.7/dist-packages/pandas/_libs/parsers.pyx\u001b[0m in \u001b[0;36mpandas._libs.parsers.TextReader._read_rows\u001b[0;34m()\u001b[0m\n",
            "\u001b[0;32m/usr/local/lib/python3.7/dist-packages/pandas/_libs/parsers.pyx\u001b[0m in \u001b[0;36mpandas._libs.parsers.TextReader._tokenize_rows\u001b[0;34m()\u001b[0m\n",
            "\u001b[0;32m/usr/local/lib/python3.7/dist-packages/pandas/_libs/parsers.pyx\u001b[0m in \u001b[0;36mpandas._libs.parsers.raise_parser_error\u001b[0;34m()\u001b[0m\n",
            "\u001b[0;31mParserError\u001b[0m: Error tokenizing data. C error: Expected 1 fields in line 28, saw 411\n"
          ]
        }
      ]
    },
    {
      "cell_type": "code",
      "source": [
        "#add more cell if needed to each code cell"
      ],
      "metadata": {
        "id": "97IkbkkUD6py"
      },
      "execution_count": null,
      "outputs": []
    },
    {
      "cell_type": "markdown",
      "source": [
        "2) Output the main information (number of variables, number of instances). "
      ],
      "metadata": {
        "id": "2nVs-nLPCv-J"
      }
    },
    {
      "cell_type": "code",
      "source": [
        "#Write your code here "
      ],
      "metadata": {
        "id": "arzsIeMJCScj"
      },
      "execution_count": null,
      "outputs": []
    },
    {
      "cell_type": "markdown",
      "source": [
        "*Comment the results of the previous program*"
      ],
      "metadata": {
        "id": "QNFx6Ot6CWCv"
      }
    },
    {
      "cell_type": "markdown",
      "source": [
        "3) Output some first rows of the dataset. \n"
      ],
      "metadata": {
        "id": "-ovknY38CjX7"
      }
    },
    {
      "cell_type": "code",
      "source": [
        "#Write your code here "
      ],
      "metadata": {
        "id": "dEJ2OA2dD1ei"
      },
      "execution_count": null,
      "outputs": []
    },
    {
      "cell_type": "markdown",
      "source": [
        "4) Make explanatory data analyses for each variable (mean, std, etc.)."
      ],
      "metadata": {
        "id": "3EfI5KcbDalO"
      }
    },
    {
      "cell_type": "code",
      "source": [
        "#Write your code here "
      ],
      "metadata": {
        "id": "i57tE26FChuG"
      },
      "execution_count": null,
      "outputs": []
    },
    {
      "cell_type": "markdown",
      "source": [
        "*Comment the results of the previous program* "
      ],
      "metadata": {
        "id": "0JlxnWQ4EjxH"
      }
    },
    {
      "cell_type": "markdown",
      "source": [
        "5) Look at the independent and dependent variables. Divide the dataset accordingly into matrices X and Y. Output the shapes of these matrices. "
      ],
      "metadata": {
        "id": "Zy18BoORFX7_"
      }
    },
    {
      "cell_type": "code",
      "source": [
        "#Write your code here "
      ],
      "metadata": {
        "id": "vRZPwiEBFoX4"
      },
      "execution_count": null,
      "outputs": []
    },
    {
      "cell_type": "markdown",
      "source": [
        "*Comment the results of the previous program* "
      ],
      "metadata": {
        "id": "e5RLpC06FzUU"
      }
    },
    {
      "cell_type": "code",
      "source": [
        ""
      ],
      "metadata": {
        "id": "D39cCjuLFx9w"
      },
      "execution_count": null,
      "outputs": []
    },
    {
      "cell_type": "markdown",
      "source": [
        "6) Look at data types of the variables. Are there any categorical variable you need to encode? Execute necessary transformations. Drop some columns if necessary, when recommended in your individual variant."
      ],
      "metadata": {
        "id": "qFniOLixGC5d"
      }
    },
    {
      "cell_type": "code",
      "source": [
        "#Write your code here "
      ],
      "metadata": {
        "id": "Fyo6XPNoGO8F"
      },
      "execution_count": null,
      "outputs": []
    },
    {
      "cell_type": "markdown",
      "source": [
        "7) Are there any Nan values? Try different filling of them (mean, median)."
      ],
      "metadata": {
        "id": "8zqBOYOlGeWh"
      }
    },
    {
      "cell_type": "code",
      "source": [
        "#Write your code here "
      ],
      "metadata": {
        "id": "Ot0ZMGlWGlCv"
      },
      "execution_count": null,
      "outputs": []
    },
    {
      "cell_type": "markdown",
      "source": [
        "*Comment the results of the previous program* "
      ],
      "metadata": {
        "id": "2BSFK4EmHN5P"
      }
    },
    {
      "cell_type": "markdown",
      "source": [
        "8) Check the dependences between each of the independent variable and the target variable and among the independent variables.  Output correlation table and corresponding headmap results."
      ],
      "metadata": {
        "id": "Qs7pQxVQGvbX"
      }
    },
    {
      "cell_type": "code",
      "source": [
        "#Write your code here "
      ],
      "metadata": {
        "id": "-cxWMnZXG5Dj"
      },
      "execution_count": null,
      "outputs": []
    },
    {
      "cell_type": "markdown",
      "source": [
        "*Comment the results of the previous program* "
      ],
      "metadata": {
        "id": "9Ka7eydBHJqR"
      }
    },
    {
      "cell_type": "markdown",
      "source": [
        "9) `Build 2D plots of dependences between each pair of the varibles.`"
      ],
      "metadata": {
        "id": "qGXfdoflG7MZ"
      }
    },
    {
      "cell_type": "code",
      "source": [
        "#Write your code here "
      ],
      "metadata": {
        "id": "slB9ZjpkHFPE"
      },
      "execution_count": null,
      "outputs": []
    },
    {
      "cell_type": "markdown",
      "source": [
        "*Comment the results of the previous program* "
      ],
      "metadata": {
        "id": "gBCsuTgIHL4x"
      }
    },
    {
      "cell_type": "markdown",
      "source": [
        "# **`Task 2 “Data Analysis” (7 Scores)`**"
      ],
      "metadata": {
        "id": "KW0KVUE_IX1v"
      }
    },
    {
      "cell_type": "markdown",
      "source": [
        "Compare 4 ML methods: \n",
        "\n",
        "*   Linear regression\n",
        "*   Decision tree regression\n",
        "*   kNN: k nearest neighbours regression\n",
        "*   Support vector machine regression\n"
      ],
      "metadata": {
        "id": "--Xjd9poImkA"
      }
    },
    {
      "cell_type": "markdown",
      "source": [
        "1) Scale your whole dataset. Try different scalings for your dataset. (Standard Scaler, MinMax Scaler). Experiment with Standard Scaler first."
      ],
      "metadata": {
        "id": "R_JD80yQJQW0"
      }
    },
    {
      "cell_type": "code",
      "source": [
        "#Write your code here. "
      ],
      "metadata": {
        "id": "sdkyabziJqXa"
      },
      "execution_count": null,
      "outputs": []
    },
    {
      "cell_type": "markdown",
      "source": [
        "2) Divide your dataset into 2 parts: training set and testing set (90:10). Use defined random_state to reproduce the splitting for other Scaler. Output the dimension of the resulting datasets."
      ],
      "metadata": {
        "id": "VydfI3WvJ1jB"
      }
    },
    {
      "cell_type": "code",
      "source": [
        "#Write your code here "
      ],
      "metadata": {
        "id": "3x45WtPZJ0Yw"
      },
      "execution_count": null,
      "outputs": []
    },
    {
      "cell_type": "markdown",
      "source": [
        "3) **Preliminary analysis:** For each model: train with training set and output the regression score (R2) of the model using training set. Now test your model with a testset and output the regression score (R2). Compare R2 inside one model for training and testing sets. Calculate other metrics MSE, RMSE, MAE, mentioned in the corresponding lecture. Compare the same characteristics calculated with training and testsets. "
      ],
      "metadata": {
        "id": "_ajWgGHZKHbO"
      }
    },
    {
      "cell_type": "markdown",
      "source": [
        "**Linear model**"
      ],
      "metadata": {
        "id": "RlRWsfVwKn6Z"
      }
    },
    {
      "cell_type": "code",
      "source": [
        "#Write your code here "
      ],
      "metadata": {
        "id": "_Ht379UjK7-1"
      },
      "execution_count": null,
      "outputs": []
    },
    {
      "cell_type": "markdown",
      "source": [
        "*Comment the results of the previous program*. *Compare the results of the same characteristics for training and test sets. Make conclusions.*"
      ],
      "metadata": {
        "id": "-6dN0DLsK_RA"
      }
    },
    {
      "cell_type": "markdown",
      "source": [
        "**Decision tree regression**"
      ],
      "metadata": {
        "id": "UREbLoK0K3MX"
      }
    },
    {
      "cell_type": "code",
      "source": [
        "#Write your code here "
      ],
      "metadata": {
        "id": "NlCnQVVfK88o"
      },
      "execution_count": null,
      "outputs": []
    },
    {
      "cell_type": "markdown",
      "source": [
        "*Comment the results of the previous program*. *Compare the results of the same characteristics for training and test sets. Make conclusions.*"
      ],
      "metadata": {
        "id": "4_cc2WoDLtrx"
      }
    },
    {
      "cell_type": "markdown",
      "source": [
        "**kNN: k nearest neighbours regression**"
      ],
      "metadata": {
        "id": "h54XKQc-LZZD"
      }
    },
    {
      "cell_type": "code",
      "source": [
        "#Write your code here "
      ],
      "metadata": {
        "id": "KQRwXmmZLg4t"
      },
      "execution_count": null,
      "outputs": []
    },
    {
      "cell_type": "markdown",
      "source": [
        "*Comment the results of the previous program*. *Compare the results of the same characteristics for training and test sets. Make conclusions.*"
      ],
      "metadata": {
        "id": "8D4RauySLvDN"
      }
    },
    {
      "cell_type": "markdown",
      "source": [
        "**Support vector machine regression**"
      ],
      "metadata": {
        "id": "W5WYBadQLc8k"
      }
    },
    {
      "cell_type": "code",
      "source": [
        "#Write your code here "
      ],
      "metadata": {
        "id": "lgT9UDYPLhqg"
      },
      "execution_count": null,
      "outputs": []
    },
    {
      "cell_type": "markdown",
      "source": [
        "*Comment the results of the previous program*. *Compare the results of the same characteristics for training and test sets. Make conclusions.*"
      ],
      "metadata": {
        "id": "gjX_Zot0LwLr"
      }
    },
    {
      "cell_type": "markdown",
      "source": [
        "Output the coefficients of the linear regression model. Which variables have the biggest influence on the output (dependent variables)? Write the conclusions in the notebook as a text field."
      ],
      "metadata": {
        "id": "pK65Z_JNL0et"
      }
    },
    {
      "cell_type": "code",
      "source": [
        "#Write your code here "
      ],
      "metadata": {
        "id": "CBMTsnV3MIb9"
      },
      "execution_count": null,
      "outputs": []
    },
    {
      "cell_type": "markdown",
      "source": [
        "*Comment the results of the previous program.*"
      ],
      "metadata": {
        "id": "voNVd5U7MM9C"
      }
    },
    {
      "cell_type": "markdown",
      "source": [
        "4) Recalculate the results of Task 2 (use the same random_state as for Standard Scaler by splitting) with MinMaxScaler and compare the results based on metric R2. Use the Scaler, which gives the best results for the next Tasks."
      ],
      "metadata": {
        "id": "0JTvhXLreVW6"
      }
    },
    {
      "cell_type": "code",
      "source": [
        "#Write your code here"
      ],
      "metadata": {
        "id": "e0aAohQ9en3e"
      },
      "execution_count": null,
      "outputs": []
    },
    {
      "cell_type": "markdown",
      "source": [
        "*Comment the results of the previous program.*"
      ],
      "metadata": {
        "id": "sedyXSKqqb-p"
      }
    },
    {
      "cell_type": "markdown",
      "source": [
        "# **`Task 3 “Cross validation” (10 Scores)`**"
      ],
      "metadata": {
        "id": "EM0DBYdbdxrW"
      }
    },
    {
      "cell_type": "markdown",
      "source": [
        "1)\tMake 5 fold cross validation, dividing your combined (training + validation sets) into 5 folds in different combinations manually with the function train_test_split() and  without using such functions as: cross_val_score(), cross_validation(), GridSearchCV(). Execute a cycle for each fold running all four models inside.\n",
        "\n",
        "2) Find the average values for each metric for each model based on the validation set. \n",
        "\n",
        "3) Try different values for the hyperparameters (see corresponding lecture slides) for each model and re-run the steps 1-2. Make conclusions about the best model and best parameters, based on each metrics and based on the majority of the metrics. \n",
        "\n"
      ],
      "metadata": {
        "id": "81vsX-Z6eCGe"
      }
    },
    {
      "cell_type": "code",
      "source": [
        "#Write your code here"
      ],
      "metadata": {
        "id": "Txo_t7h7h9LY"
      },
      "execution_count": null,
      "outputs": []
    },
    {
      "cell_type": "markdown",
      "source": [
        "*Show the results of 3 runs of each model with different hyperparameters each.*"
      ],
      "metadata": {
        "id": "bx_w1A1emXbD"
      }
    },
    {
      "cell_type": "markdown",
      "source": [
        "4)\t**Final evaluation.** Evaluate your model using a test set (remains the same from the previous task) based on all metrics. Take the best hyperparameters of the models from the cross validation step and train the model with the complete training set (training set + validation set). Compare the results obtained on the validation set. Make the conclusions about the results."
      ],
      "metadata": {
        "id": "s8XEAuWTiAfb"
      }
    },
    {
      "cell_type": "code",
      "source": [
        "# Write your code here"
      ],
      "metadata": {
        "id": "kgD20IZek1TZ"
      },
      "execution_count": null,
      "outputs": []
    },
    {
      "cell_type": "markdown",
      "source": [
        "# **`Task 4 “Use automatic cross validation ” (10 Scores)`**"
      ],
      "metadata": {
        "id": "fz4NDboGm6zD"
      }
    },
    {
      "cell_type": "markdown",
      "source": [
        "1) Use the functions cross_val_score() or cross_validation() for automation of the manually performed process in Task 3. Use the best hyperparameter values for each model found at the previous step."
      ],
      "metadata": {
        "id": "zb8x6aklnDoB"
      }
    },
    {
      "cell_type": "code",
      "source": [
        "#Write your code here for Lenear regression"
      ],
      "metadata": {
        "id": "QJ5pmxBinZB0"
      },
      "execution_count": null,
      "outputs": []
    },
    {
      "cell_type": "code",
      "source": [
        "#Write your code here for Decision tree regression"
      ],
      "metadata": {
        "id": "APX6cTl1s4z0"
      },
      "execution_count": null,
      "outputs": []
    },
    {
      "cell_type": "code",
      "source": [
        "#Write your code here for #kNN: k nearest neighbours regression"
      ],
      "metadata": {
        "id": "U8ugbfT9s6uH"
      },
      "execution_count": null,
      "outputs": []
    },
    {
      "cell_type": "code",
      "source": [
        "#Support vector machine regression"
      ],
      "metadata": {
        "id": "ZyXJt0Z4s8ZJ"
      },
      "execution_count": null,
      "outputs": []
    },
    {
      "cell_type": "markdown",
      "source": [
        "*!! Comment the obtained results here !!*"
      ],
      "metadata": {
        "id": "tbxvVSVxoIj2"
      }
    },
    {
      "cell_type": "markdown",
      "source": [
        "2) Use the function GridSearchCV() to find the best hyperparameters for each ML method."
      ],
      "metadata": {
        "id": "RPxipoKXnjcK"
      }
    },
    {
      "cell_type": "code",
      "source": [
        "#Write your code here for Linear regression"
      ],
      "metadata": {
        "id": "ys_zIf8lMvPy"
      },
      "execution_count": null,
      "outputs": []
    },
    {
      "cell_type": "code",
      "source": [
        "#Write your code here for Decision tree regression"
      ],
      "metadata": {
        "id": "IWehsVq-saij"
      },
      "execution_count": null,
      "outputs": []
    },
    {
      "cell_type": "code",
      "source": [
        "#Write your code here for #kNN: k nearest neighbours regression"
      ],
      "metadata": {
        "id": "4_tJQLpNsfay"
      },
      "execution_count": null,
      "outputs": []
    },
    {
      "cell_type": "code",
      "source": [
        "#Write your code here for Support vector machine regression"
      ],
      "metadata": {
        "id": "zjsDnESosiqm"
      },
      "execution_count": null,
      "outputs": []
    },
    {
      "cell_type": "markdown",
      "source": [
        "*!! Comment the obtained results here !!*"
      ],
      "metadata": {
        "id": "etYur7SzoPH3"
      }
    },
    {
      "cell_type": "markdown",
      "source": [
        "3) Evaluate the found models and parameters with the test dataset. Compare the results of Tasks 3 and Task4. Make conclusion about the results."
      ],
      "metadata": {
        "id": "p72d9jPXn0yj"
      }
    },
    {
      "cell_type": "code",
      "source": [
        "#Write your code here Linear regression"
      ],
      "metadata": {
        "id": "AJ29Tp-ln8nT"
      },
      "execution_count": null,
      "outputs": []
    },
    {
      "cell_type": "code",
      "source": [
        "#Write your code here for Decision tree regression"
      ],
      "metadata": {
        "id": "L0GilH0ZtVm8"
      },
      "execution_count": null,
      "outputs": []
    },
    {
      "cell_type": "code",
      "source": [
        "#Write your code here for #kNN: k nearest neighbours regression"
      ],
      "metadata": {
        "id": "ppr6GJjQtXOk"
      },
      "execution_count": null,
      "outputs": []
    },
    {
      "cell_type": "code",
      "source": [
        "#Write your code here for Support vector machine regression"
      ],
      "metadata": {
        "id": "oeUw9bg6tYoV"
      },
      "execution_count": null,
      "outputs": []
    },
    {
      "cell_type": "markdown",
      "source": [
        "*!! Comment the obtained results here !!*"
      ],
      "metadata": {
        "id": "YRDqhTJ7oQuC"
      }
    },
    {
      "cell_type": "markdown",
      "source": [
        "4) Output residuals (true value - forecast) and order them. Which observations could be outliers?  Compare the outliers of all the models. Are they the same? "
      ],
      "metadata": {
        "id": "LZhSAP7FMp10"
      }
    },
    {
      "cell_type": "code",
      "source": [
        "#Write your code here to output the outliers for all four models as a DataFrame."
      ],
      "metadata": {
        "id": "1Jplr_vgnx-W"
      },
      "execution_count": null,
      "outputs": []
    },
    {
      "cell_type": "markdown",
      "source": [
        "5) Try to exclude those observations and rebuild each model (use cross_validation() function ones more). Compare the results after removing and before removing of outliers. Make conclusions."
      ],
      "metadata": {
        "id": "BFBhek5PMw28"
      }
    },
    {
      "cell_type": "code",
      "source": [
        "#Write your code here for #Linear model after removing of outliers"
      ],
      "metadata": {
        "id": "zbQdDE1ddQJM"
      },
      "execution_count": null,
      "outputs": []
    },
    {
      "cell_type": "code",
      "source": [
        "#Write your code here for Decision tree regression after removing of outliers"
      ],
      "metadata": {
        "id": "bjlkCYQ2dQV6"
      },
      "execution_count": null,
      "outputs": []
    },
    {
      "cell_type": "code",
      "source": [
        "#Write your code here for kNN: k nearest neighbours regression after removing of outliers"
      ],
      "metadata": {
        "id": "2hk-lqFCdQhk"
      },
      "execution_count": null,
      "outputs": []
    },
    {
      "cell_type": "code",
      "source": [
        "#Write your code here for Support vector machine regression after removing of outliers"
      ],
      "metadata": {
        "id": "oTaei7H2dQrs"
      },
      "execution_count": null,
      "outputs": []
    },
    {
      "cell_type": "markdown",
      "source": [
        "!! Make conclusions as a Text field !!"
      ],
      "metadata": {
        "id": "xxoNlN9qdaW-"
      }
    }
  ]
}